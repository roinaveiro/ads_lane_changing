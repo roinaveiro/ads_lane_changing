{
 "cells": [
  {
   "cell_type": "code",
   "execution_count": 1,
   "id": "08027ae4",
   "metadata": {},
   "outputs": [],
   "source": [
    "from lane_changing import *\n",
    "from data import build_params"
   ]
  },
  {
   "cell_type": "markdown",
   "id": "e60bc3da",
   "metadata": {},
   "source": [
    "# Cargar la clase lane_changing y extraer resutados\n",
    "\n",
    "Esto recibe la lectura del sensor como variable.\n",
    "Además, recibe un diccionario de parámetros definido en el fichero `data.py`."
   ]
  },
  {
   "cell_type": "code",
   "execution_count": 27,
   "id": "2c237b4c",
   "metadata": {},
   "outputs": [],
   "source": [
    "params = build_params(theta2=1.0, theta3=1.0, theta4=0.0, \n",
    "                      weights_A=np.array([0.1, 0.0, 0.0, 0.0, 0.0, 0.0, 0.0, 0.9]) ,\n",
    "                      weights_MV=np.array([0.2, 0.05, 0.05, 0.6]))\n",
    "ads = lane_changing(params)"
   ]
  },
  {
   "cell_type": "code",
   "execution_count": 28,
   "id": "6cbf6605",
   "metadata": {},
   "outputs": [],
   "source": [
    "results = ads.simulate(theta=0)"
   ]
  },
  {
   "cell_type": "code",
   "execution_count": 29,
   "id": "0b10ed8d",
   "metadata": {},
   "outputs": [
    {
     "data": {
      "text/plain": [
       "{'prob_sensor_00': 0.9025,\n",
       " 'prob_sensor_01': 0.04750000000000004,\n",
       " 'prob_sensor_10': 0.04750000000000004,\n",
       " 'prob_sensor_11': 0.0025000000000000044,\n",
       " 'a_opt_0': 0,\n",
       " 'a_opt_1': 1,\n",
       " 'm_opt_00': 1,\n",
       " 'm_opt_01': 0,\n",
       " 'm_opt_10': 1,\n",
       " 'm_opt_11': 0,\n",
       " 'prob_s': array([0.15833333, 0.15833333, 0.68333333, 0.        ])}"
      ]
     },
     "execution_count": 29,
     "metadata": {},
     "output_type": "execute_result"
    }
   ],
   "source": [
    "results"
   ]
  },
  {
   "cell_type": "markdown",
   "id": "4407e679",
   "metadata": {},
   "source": [
    "# Calcular acción óptima del ADS y vector de utilidades esperadas"
   ]
  },
  {
   "cell_type": "code",
   "execution_count": 5,
   "id": "1e172d5c",
   "metadata": {},
   "outputs": [
    {
     "data": {
      "text/plain": [
       "(0, array([0.39944552, 0.25918178, 0.        ]))"
      ]
     },
     "execution_count": 5,
     "metadata": {},
     "output_type": "execute_result"
    }
   ],
   "source": [
    "ads.optimal_action_A()"
   ]
  },
  {
   "cell_type": "markdown",
   "id": "e6da21e4",
   "metadata": {},
   "source": [
    "# Extraer p(m|a)"
   ]
  },
  {
   "cell_type": "code",
   "execution_count": 6,
   "id": "b5a60cd7",
   "metadata": {},
   "outputs": [
    {
     "data": {
      "text/plain": [
       "array([[0.003, 0.   , 0.997],\n",
       "       [0.97 , 0.03 , 0.   ],\n",
       "       [0.37 , 0.381, 0.249]])"
      ]
     },
     "execution_count": 6,
     "metadata": {},
     "output_type": "execute_result"
    }
   ],
   "source": [
    "ads.pam"
   ]
  },
  {
   "cell_type": "markdown",
   "id": "665d67ac",
   "metadata": {},
   "source": [
    "# Calcular acción óptima del vehículo manual (desde su punto de vista) dado a, y utilidades esperadas"
   ]
  },
  {
   "cell_type": "code",
   "execution_count": 8,
   "id": "08e45c5a",
   "metadata": {},
   "outputs": [
    {
     "data": {
      "text/plain": [
       "(0, array([0., 0., 0.]))"
      ]
     },
     "execution_count": 8,
     "metadata": {},
     "output_type": "execute_result"
    }
   ],
   "source": [
    "a = 2\n",
    "ads.optimal_action_MV(a)"
   ]
  }
 ],
 "metadata": {
  "kernelspec": {
   "display_name": "Python 3 (ipykernel)",
   "language": "python",
   "name": "python3"
  },
  "language_info": {
   "codemirror_mode": {
    "name": "ipython",
    "version": 3
   },
   "file_extension": ".py",
   "mimetype": "text/x-python",
   "name": "python",
   "nbconvert_exporter": "python",
   "pygments_lexer": "ipython3",
   "version": "3.9.7"
  }
 },
 "nbformat": 4,
 "nbformat_minor": 5
}
