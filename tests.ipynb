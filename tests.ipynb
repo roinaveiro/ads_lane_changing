{
 "cells": [
  {
   "cell_type": "code",
   "execution_count": 3,
   "id": "08027ae4",
   "metadata": {},
   "outputs": [],
   "source": [
    "from lane_changing import *\n",
    "from data import *"
   ]
  },
  {
   "cell_type": "markdown",
   "id": "e60bc3da",
   "metadata": {},
   "source": [
    "# Cargar la clase lane_changing\n",
    "\n",
    "Esto recibe la lectura del sensor como variable.\n",
    "Además, recibe un diccionario de parámetros definido en el fichero `data.py`."
   ]
  },
  {
   "cell_type": "code",
   "execution_count": 4,
   "id": "2c237b4c",
   "metadata": {},
   "outputs": [],
   "source": [
    "ads = lane_changing(params, y_A=0)"
   ]
  },
  {
   "cell_type": "markdown",
   "id": "4407e679",
   "metadata": {},
   "source": [
    "# Calcular acción óptima del ADS y vector de utilidades esperadas"
   ]
  },
  {
   "cell_type": "code",
   "execution_count": 5,
   "id": "1e172d5c",
   "metadata": {},
   "outputs": [
    {
     "data": {
      "text/plain": [
       "(0, array([0.39944552, 0.25918178, 0.        ]))"
      ]
     },
     "execution_count": 5,
     "metadata": {},
     "output_type": "execute_result"
    }
   ],
   "source": [
    "ads.optimal_action_A()"
   ]
  },
  {
   "cell_type": "markdown",
   "id": "e6da21e4",
   "metadata": {},
   "source": [
    "# Extraer p(m|a)"
   ]
  },
  {
   "cell_type": "code",
   "execution_count": 6,
   "id": "b5a60cd7",
   "metadata": {},
   "outputs": [
    {
     "data": {
      "text/plain": [
       "array([[0.003, 0.   , 0.997],\n",
       "       [0.97 , 0.03 , 0.   ],\n",
       "       [0.37 , 0.381, 0.249]])"
      ]
     },
     "execution_count": 6,
     "metadata": {},
     "output_type": "execute_result"
    }
   ],
   "source": [
    "ads.pam"
   ]
  },
  {
   "cell_type": "markdown",
   "id": "665d67ac",
   "metadata": {},
   "source": [
    "# Calcular acción óptima del vehículo manual (desde su punto de vista) dado a, y utilidades esperadas"
   ]
  },
  {
   "cell_type": "code",
   "execution_count": 8,
   "id": "08e45c5a",
   "metadata": {},
   "outputs": [
    {
     "data": {
      "text/plain": [
       "(0, array([0., 0., 0.]))"
      ]
     },
     "execution_count": 8,
     "metadata": {},
     "output_type": "execute_result"
    }
   ],
   "source": [
    "a = 2\n",
    "ads.optimal_action_MV(a)"
   ]
  }
 ],
 "metadata": {
  "kernelspec": {
   "display_name": "Python 3 (ipykernel)",
   "language": "python",
   "name": "python3"
  },
  "language_info": {
   "codemirror_mode": {
    "name": "ipython",
    "version": 3
   },
   "file_extension": ".py",
   "mimetype": "text/x-python",
   "name": "python",
   "nbconvert_exporter": "python",
   "pygments_lexer": "ipython3",
   "version": "3.9.7"
  }
 },
 "nbformat": 4,
 "nbformat_minor": 5
}
