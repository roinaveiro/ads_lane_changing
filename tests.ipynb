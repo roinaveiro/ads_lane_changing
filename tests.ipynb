{
 "cells": [
  {
   "cell_type": "code",
   "execution_count": 4,
   "id": "08027ae4",
   "metadata": {},
   "outputs": [],
   "source": [
    "from lane_changing import *\n",
    "from data import build_params"
   ]
  },
  {
   "cell_type": "markdown",
   "id": "e60bc3da",
   "metadata": {},
   "source": [
    "# Cargar la clase lane_changing\n",
    "\n",
    "Esto recibe la lectura del sensor como variable.\n",
    "Además, recibe un diccionario de parámetros definido en el fichero `data.py`."
   ]
  },
  {
   "cell_type": "code",
   "execution_count": 14,
   "id": "2c237b4c",
   "metadata": {},
   "outputs": [
    {
     "data": {
      "text/plain": [
       "(1, array([-1.27169137,  0.02955447, -0.50380716]))"
      ]
     },
     "execution_count": 14,
     "metadata": {},
     "output_type": "execute_result"
    }
   ],
   "source": [
    "params = build_params(theta2=4.0, theta3=4.0, theta4=10.0)\n",
    "ads = lane_changing(params)\n",
    "ads.y_A = 1 \n",
    "ads.optimal_action_A()"
   ]
  },
  {
   "cell_type": "code",
   "execution_count": 27,
   "id": "9faf877b",
   "metadata": {},
   "outputs": [
    {
     "name": "stdout",
     "output_type": "stream",
     "text": [
      "[0.05 0.95]\n"
     ]
    }
   ],
   "source": [
    "params = build_params(theta2=4.0, theta3=4.0, theta4=2.0)\n",
    "ads = lane_changing(params)\n",
    "results = ads.simulate(theta=1)"
   ]
  },
  {
   "cell_type": "code",
   "execution_count": 28,
   "id": "0da01001",
   "metadata": {},
   "outputs": [
    {
     "data": {
      "text/plain": [
       "{'prob_sensor_00': 0.0025000000000000044,\n",
       " 'prob_sensor_01': 0.04750000000000004,\n",
       " 'prob_sensor_10': 0.04750000000000004,\n",
       " 'prob_sensor_11': 0.9025,\n",
       " 'a_opt_0': 2,\n",
       " 'a_opt_1': 2,\n",
       " 'm_opt_00': 0,\n",
       " 'm_opt_01': 0,\n",
       " 'm_opt_10': 0,\n",
       " 'm_opt_11': 0,\n",
       " 'prob_s': array([0., 0., 0., 1.])}"
      ]
     },
     "execution_count": 28,
     "metadata": {},
     "output_type": "execute_result"
    }
   ],
   "source": [
    "results"
   ]
  },
  {
   "cell_type": "markdown",
   "id": "4407e679",
   "metadata": {},
   "source": [
    "# Calcular acción óptima del ADS y vector de utilidades esperadas"
   ]
  },
  {
   "cell_type": "code",
   "execution_count": 5,
   "id": "1e172d5c",
   "metadata": {},
   "outputs": [
    {
     "data": {
      "text/plain": [
       "(0, array([0.39944552, 0.25918178, 0.        ]))"
      ]
     },
     "execution_count": 5,
     "metadata": {},
     "output_type": "execute_result"
    }
   ],
   "source": [
    "ads.optimal_action_A()"
   ]
  },
  {
   "cell_type": "markdown",
   "id": "e6da21e4",
   "metadata": {},
   "source": [
    "# Extraer p(m|a)"
   ]
  },
  {
   "cell_type": "code",
   "execution_count": 6,
   "id": "b5a60cd7",
   "metadata": {},
   "outputs": [
    {
     "data": {
      "text/plain": [
       "array([[0.003, 0.   , 0.997],\n",
       "       [0.97 , 0.03 , 0.   ],\n",
       "       [0.37 , 0.381, 0.249]])"
      ]
     },
     "execution_count": 6,
     "metadata": {},
     "output_type": "execute_result"
    }
   ],
   "source": [
    "ads.pam"
   ]
  },
  {
   "cell_type": "markdown",
   "id": "665d67ac",
   "metadata": {},
   "source": [
    "# Calcular acción óptima del vehículo manual (desde su punto de vista) dado a, y utilidades esperadas"
   ]
  },
  {
   "cell_type": "code",
   "execution_count": 8,
   "id": "08e45c5a",
   "metadata": {},
   "outputs": [
    {
     "data": {
      "text/plain": [
       "(0, array([0., 0., 0.]))"
      ]
     },
     "execution_count": 8,
     "metadata": {},
     "output_type": "execute_result"
    }
   ],
   "source": [
    "a = 2\n",
    "ads.optimal_action_MV(a)"
   ]
  }
 ],
 "metadata": {
  "kernelspec": {
   "display_name": "Python 3 (ipykernel)",
   "language": "python",
   "name": "python3"
  },
  "language_info": {
   "codemirror_mode": {
    "name": "ipython",
    "version": 3
   },
   "file_extension": ".py",
   "mimetype": "text/x-python",
   "name": "python",
   "nbconvert_exporter": "python",
   "pygments_lexer": "ipython3",
   "version": "3.9.7"
  }
 },
 "nbformat": 4,
 "nbformat_minor": 5
}
