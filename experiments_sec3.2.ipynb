{
 "cells": [
  {
   "cell_type": "code",
   "execution_count": 148,
   "id": "08027ae4",
   "metadata": {},
   "outputs": [],
   "source": [
    "from lane_changing import *\n",
    "from data import build_params\n",
    "\n",
    "def build_result_mat(results_dry, results_wet):\n",
    "    p_dry = np.zeros([3])\n",
    "    p_wet = np.zeros([3])\n",
    "\n",
    "    p_dry[ results_dry['a_opt_0'] ] += results_dry['prob_sensor_00'] + results_dry['prob_sensor_10']\n",
    "    p_dry[ results_dry['a_opt_1'] ] += results_dry['prob_sensor_10'] + results_dry['prob_sensor_11']\n",
    "\n",
    "    p_wet[ results_dry['a_opt_0'] ] += results_wet['prob_sensor_00'] + results_wet['prob_sensor_10']\n",
    "    p_wet[ results_dry['a_opt_1'] ] += results_wet['prob_sensor_10'] + results_wet['prob_sensor_11']\n",
    "\n",
    "    p_mat = np.array([p_dry, p_wet])   \n",
    "    \n",
    "    prob_s_dry = np.round(results_dry['prob_s'], 3)\n",
    "    #prob_s_dry = prob_s_dry/np.sum(prob_s_dry)\n",
    "    prob_s_wet = np.round(results_wet['prob_s'], 3)\n",
    "    #prob_s_wet = prob_s_dry/np.sum(prob_s_wet)\n",
    "    prob_s_mat = np.array([prob_s_dry, prob_s_wet])\n",
    "    \n",
    "    return p_mat, prob_s_mat"
   ]
  },
  {
   "cell_type": "markdown",
   "id": "e60bc3da",
   "metadata": {},
   "source": [
    "# Section 3.2.2\n",
    "\n",
    "For the reference experiments we choose the following parameterization:\n",
    "\n",
    "* ADS weights: `wA  = np.array([3/100, 22/100, 0, 3/100, 22/100, 0, 22/100, 31/100])`\n",
    "* ADS risk aversion coefficient: `rho_A=0.5`\n",
    "\n",
    "* MV weights: `np.array([0.1, 0.5, 0.05, 0.35])`\n",
    "* MV risk aversion coefficient: `rho_MV=1.0`\n",
    "\n",
    "* 1 passenger in ADS, 1 passenger in MV, 1 pedestrian.\n",
    "\n",
    "Notice that this is a quite risky driving scene, in the sense that both the\n",
    "ADS and the MV give a lot of weight to speed (last component of the vectors)\n",
    "compared to the weight given to safety.\n"
   ]
  },
  {
   "cell_type": "code",
   "execution_count": 149,
   "id": "2c237b4c",
   "metadata": {},
   "outputs": [],
   "source": [
    "wA  = np.array([3/100, 22/100, 0, 3/100, 22/100, 0, 22/100, 31/100])\n",
    "wMV = np.array([0.1, 0.5, 0.05, 0.35])\n",
    "\n",
    "params = build_params(theta2=1.0, theta3=1.0, theta4=1.0, \n",
    "                      rho_A=0.5, rho_MV=1.0,\n",
    "                      weights_A=wA, weights_MV=wMV)\n",
    "ads = lane_changing(params)"
   ]
  },
  {
   "cell_type": "code",
   "execution_count": 150,
   "id": "6cbf6605",
   "metadata": {},
   "outputs": [],
   "source": [
    "results_wet = ads.simulate(theta=1)\n",
    "results_dry = ads.simulate(theta=0)\n",
    "p_mat, prob_s_mat = build_result_mat(results_dry, results_wet)"
   ]
  },
  {
   "cell_type": "markdown",
   "id": "1002dc11",
   "metadata": {},
   "source": [
    "### Table 4"
   ]
  },
  {
   "cell_type": "code",
   "execution_count": 151,
   "id": "2dd449dd",
   "metadata": {},
   "outputs": [
    {
     "data": {
      "text/html": [
       "<div>\n",
       "<style scoped>\n",
       "    .dataframe tbody tr th:only-of-type {\n",
       "        vertical-align: middle;\n",
       "    }\n",
       "\n",
       "    .dataframe tbody tr th {\n",
       "        vertical-align: top;\n",
       "    }\n",
       "\n",
       "    .dataframe thead th {\n",
       "        text-align: right;\n",
       "    }\n",
       "</style>\n",
       "<table border=\"1\" class=\"dataframe\">\n",
       "  <thead>\n",
       "    <tr style=\"text-align: right;\">\n",
       "      <th></th>\n",
       "      <th>$a_1$</th>\n",
       "      <th>$a_2$</th>\n",
       "      <th>$a_3$</th>\n",
       "    </tr>\n",
       "    <tr>\n",
       "      <th>Pavement</th>\n",
       "      <th></th>\n",
       "      <th></th>\n",
       "      <th></th>\n",
       "    </tr>\n",
       "  </thead>\n",
       "  <tbody>\n",
       "    <tr>\n",
       "      <th>Dry</th>\n",
       "      <td>0.95</td>\n",
       "      <td>0.05</td>\n",
       "      <td>0.0</td>\n",
       "    </tr>\n",
       "    <tr>\n",
       "      <th>Wet</th>\n",
       "      <td>0.05</td>\n",
       "      <td>0.95</td>\n",
       "      <td>0.0</td>\n",
       "    </tr>\n",
       "  </tbody>\n",
       "</table>\n",
       "</div>"
      ],
      "text/plain": [
       "          $a_1$  $a_2$  $a_3$\n",
       "Pavement                     \n",
       "Dry        0.95   0.05    0.0\n",
       "Wet        0.05   0.95    0.0"
      ]
     },
     "execution_count": 151,
     "metadata": {},
     "output_type": "execute_result"
    }
   ],
   "source": [
    "d = {\n",
    "     'Pavement': ['Dry', 'Wet'],\n",
    "     '$a_1$'   : p_mat[:,0],\n",
    "     '$a_2$'   : p_mat[:,1],\n",
    "     '$a_3$'   : p_mat[:,2],\n",
    "    }\n",
    "df = pd.DataFrame(d).set_index('Pavement')\n",
    "df"
   ]
  },
  {
   "cell_type": "markdown",
   "id": "71012361",
   "metadata": {},
   "source": [
    "When pavement is dry, the ADS decides to change lane more often than not. \n",
    "When pavement is wet, it tends to be more conservative and decides more often not to change lane."
   ]
  },
  {
   "cell_type": "code",
   "execution_count": 152,
   "id": "95cc70ae",
   "metadata": {},
   "outputs": [
    {
     "data": {
      "text/plain": [
       "'\\\\begin{tabular}{lrrr}\\n\\\\toprule\\n{} &  \\\\$a\\\\_1\\\\$ &  \\\\$a\\\\_2\\\\$ &  \\\\$a\\\\_3\\\\$ \\\\\\\\\\nPavement &        &        &        \\\\\\\\\\n\\\\midrule\\nDry      &   0.95 &   0.05 &    0.0 \\\\\\\\\\nWet      &   0.05 &   0.95 &    0.0 \\\\\\\\\\n\\\\bottomrule\\n\\\\end{tabular}\\n'"
      ]
     },
     "execution_count": 152,
     "metadata": {},
     "output_type": "execute_result"
    }
   ],
   "source": [
    "df.to_latex()"
   ]
  },
  {
   "cell_type": "markdown",
   "id": "922e8b66",
   "metadata": {},
   "source": [
    "### Table 5"
   ]
  },
  {
   "cell_type": "code",
   "execution_count": 154,
   "id": "2d23d587",
   "metadata": {},
   "outputs": [
    {
     "data": {
      "text/html": [
       "<div>\n",
       "<style scoped>\n",
       "    .dataframe tbody tr th:only-of-type {\n",
       "        vertical-align: middle;\n",
       "    }\n",
       "\n",
       "    .dataframe tbody tr th {\n",
       "        vertical-align: top;\n",
       "    }\n",
       "\n",
       "    .dataframe thead th {\n",
       "        text-align: right;\n",
       "    }\n",
       "</style>\n",
       "<table border=\"1\" class=\"dataframe\">\n",
       "  <thead>\n",
       "    <tr style=\"text-align: right;\">\n",
       "      <th></th>\n",
       "      <th>$s_1$</th>\n",
       "      <th>$s_2$</th>\n",
       "      <th>$s_3$</th>\n",
       "      <th>$s_4$</th>\n",
       "    </tr>\n",
       "    <tr>\n",
       "      <th>Pavement</th>\n",
       "      <th></th>\n",
       "      <th></th>\n",
       "      <th></th>\n",
       "      <th></th>\n",
       "    </tr>\n",
       "  </thead>\n",
       "  <tbody>\n",
       "    <tr>\n",
       "      <th>Dry</th>\n",
       "      <td>0.158</td>\n",
       "      <td>0.158</td>\n",
       "      <td>0.683</td>\n",
       "      <td>0.0</td>\n",
       "    </tr>\n",
       "    <tr>\n",
       "      <th>Wet</th>\n",
       "      <td>0.017</td>\n",
       "      <td>0.017</td>\n",
       "      <td>0.967</td>\n",
       "      <td>0.0</td>\n",
       "    </tr>\n",
       "  </tbody>\n",
       "</table>\n",
       "</div>"
      ],
      "text/plain": [
       "          $s_1$  $s_2$  $s_3$  $s_4$\n",
       "Pavement                            \n",
       "Dry       0.158  0.158  0.683    0.0\n",
       "Wet       0.017  0.017  0.967    0.0"
      ]
     },
     "execution_count": 154,
     "metadata": {},
     "output_type": "execute_result"
    }
   ],
   "source": [
    "d = {\n",
    "     'Pavement': ['Dry', 'Wet'],\n",
    "     '$s_1$'   : prob_s_mat[:,0],\n",
    "     '$s_2$'   : prob_s_mat[:,1],\n",
    "     '$s_3$'   : prob_s_mat[:,2],\n",
    "     '$s_4$'   : prob_s_mat[:,3]\n",
    "\n",
    "    }\n",
    "df = pd.DataFrame(d).set_index('Pavement')\n",
    "df"
   ]
  },
  {
   "cell_type": "markdown",
   "id": "97140a54",
   "metadata": {},
   "source": [
    "This is a consequence of the actions chosen. When pavement is dry, ADS chooses to change lane more often and thus, risky scenarios ($s_1$ and $s_2$) occurr more often."
   ]
  },
  {
   "cell_type": "code",
   "execution_count": 155,
   "id": "8297b88c",
   "metadata": {},
   "outputs": [
    {
     "data": {
      "text/plain": [
       "'\\\\begin{tabular}{lrrrr}\\n\\\\toprule\\n{} &  \\\\$s\\\\_1\\\\$ &  \\\\$s\\\\_2\\\\$ &  \\\\$s\\\\_3\\\\$ &  \\\\$s\\\\_4\\\\$ \\\\\\\\\\nPavement &        &        &        &        \\\\\\\\\\n\\\\midrule\\nDry      &  0.158 &  0.158 &  0.683 &    0.0 \\\\\\\\\\nWet      &  0.017 &  0.017 &  0.967 &    0.0 \\\\\\\\\\n\\\\bottomrule\\n\\\\end{tabular}\\n'"
      ]
     },
     "execution_count": 155,
     "metadata": {},
     "output_type": "execute_result"
    }
   ],
   "source": [
    "df.to_latex()"
   ]
  },
  {
   "cell_type": "markdown",
   "id": "37cb59ba",
   "metadata": {},
   "source": [
    "### Table 6\n",
    "\n",
    "Same weights as before. We compare 3 configurations.\n",
    "\n",
    "* No passengers in ADS, 5 passengers in MV, 1 pedestrian.\n",
    "* 4 in ADS, 1 passengers in MV, 1 pedestrian.\n",
    "* 5 in ADS, 5 passengers in MV, 0 pedestrians."
   ]
  },
  {
   "cell_type": "code",
   "execution_count": 156,
   "id": "37868754",
   "metadata": {},
   "outputs": [],
   "source": [
    "wA  = np.array([3/100, 22/100, 0, 3/100, 22/100, 0, 22/100, 31/100])\n",
    "wMV = np.array([0.1, 0.5, 0.05, 0.35])\n"
   ]
  },
  {
   "cell_type": "code",
   "execution_count": 157,
   "id": "4fbbf1a3",
   "metadata": {},
   "outputs": [],
   "source": [
    "params = build_params(theta2=0.0, theta3=5.0, theta4=1.0, \n",
    "                      rho_A=0.5, rho_MV=1.0,\n",
    "                      weights_A=wA, weights_MV=wMV)\n",
    "ads = lane_changing(params)\n",
    "\n",
    "results_wet_1 = ads.simulate(theta=1)\n",
    "results_dry_1 = ads.simulate(theta=0)\n",
    "\n",
    "p_mat_1, prob_s_mat_1 = build_result_mat(results_dry_1, results_wet_1)"
   ]
  },
  {
   "cell_type": "code",
   "execution_count": 158,
   "id": "a0806915",
   "metadata": {},
   "outputs": [],
   "source": [
    "params = build_params(theta2=4.0, theta3=1.0, theta4=1.0, \n",
    "                      rho_A=0.5, rho_MV=1.0,\n",
    "                      weights_A=wA, weights_MV=wMV)\n",
    "ads = lane_changing(params)\n",
    "\n",
    "results_wet_2 = ads.simulate(theta=1)\n",
    "results_dry_2 = ads.simulate(theta=0)\n",
    "\n",
    "p_mat_2, prob_s_mat_2 = build_result_mat(results_dry_2, results_wet_2)"
   ]
  },
  {
   "cell_type": "code",
   "execution_count": 159,
   "id": "f5690b7b",
   "metadata": {},
   "outputs": [],
   "source": [
    "params = build_params(theta2=5.0, theta3=5.0, theta4=0.0, \n",
    "                      rho_A=0.5, rho_MV=1.0,\n",
    "                      weights_A=wA, weights_MV=wMV)\n",
    "ads = lane_changing(params)\n",
    "\n",
    "results_wet_3 = ads.simulate(theta=1)\n",
    "results_dry_3 = ads.simulate(theta=0)\n",
    "\n",
    "p_mat_3, prob_s_mat_3 = build_result_mat(results_dry_3, results_wet_3)"
   ]
  },
  {
   "cell_type": "code",
   "execution_count": 166,
   "id": "2f5b048f",
   "metadata": {},
   "outputs": [
    {
     "data": {
      "text/html": [
       "<div>\n",
       "<style scoped>\n",
       "    .dataframe tbody tr th:only-of-type {\n",
       "        vertical-align: middle;\n",
       "    }\n",
       "\n",
       "    .dataframe tbody tr th {\n",
       "        vertical-align: top;\n",
       "    }\n",
       "\n",
       "    .dataframe thead th {\n",
       "        text-align: right;\n",
       "    }\n",
       "</style>\n",
       "<table border=\"1\" class=\"dataframe\">\n",
       "  <thead>\n",
       "    <tr style=\"text-align: right;\">\n",
       "      <th></th>\n",
       "      <th></th>\n",
       "      <th>$a_1$</th>\n",
       "      <th>$a_2$</th>\n",
       "      <th>$a_3$</th>\n",
       "      <th>$s_1$</th>\n",
       "      <th>$s_2$</th>\n",
       "      <th>$s_3$</th>\n",
       "      <th>$s_4$</th>\n",
       "    </tr>\n",
       "    <tr>\n",
       "      <th>Configuration</th>\n",
       "      <th>Pavement</th>\n",
       "      <th></th>\n",
       "      <th></th>\n",
       "      <th></th>\n",
       "      <th></th>\n",
       "      <th></th>\n",
       "      <th></th>\n",
       "      <th></th>\n",
       "    </tr>\n",
       "  </thead>\n",
       "  <tbody>\n",
       "    <tr>\n",
       "      <th rowspan=\"2\" valign=\"top\">1</th>\n",
       "      <th>Dry</th>\n",
       "      <td>0.95</td>\n",
       "      <td>0.05</td>\n",
       "      <td>0.0</td>\n",
       "      <td>0.040</td>\n",
       "      <td>0.040</td>\n",
       "      <td>0.921</td>\n",
       "      <td>0.0</td>\n",
       "    </tr>\n",
       "    <tr>\n",
       "      <th>Wet</th>\n",
       "      <td>0.05</td>\n",
       "      <td>0.95</td>\n",
       "      <td>0.0</td>\n",
       "      <td>0.017</td>\n",
       "      <td>0.017</td>\n",
       "      <td>0.967</td>\n",
       "      <td>0.0</td>\n",
       "    </tr>\n",
       "    <tr>\n",
       "      <th>2</th>\n",
       "      <th>Dry</th>\n",
       "      <td>0.00</td>\n",
       "      <td>1.00</td>\n",
       "      <td>0.0</td>\n",
       "      <td>0.000</td>\n",
       "      <td>0.000</td>\n",
       "      <td>1.000</td>\n",
       "      <td>0.0</td>\n",
       "    </tr>\n",
       "    <tr>\n",
       "      <th rowspan=\"3\" valign=\"top\">3</th>\n",
       "      <th>Wet</th>\n",
       "      <td>0.00</td>\n",
       "      <td>1.00</td>\n",
       "      <td>0.0</td>\n",
       "      <td>0.000</td>\n",
       "      <td>0.000</td>\n",
       "      <td>1.000</td>\n",
       "      <td>0.0</td>\n",
       "    </tr>\n",
       "    <tr>\n",
       "      <th>Dry</th>\n",
       "      <td>0.00</td>\n",
       "      <td>1.00</td>\n",
       "      <td>0.0</td>\n",
       "      <td>0.000</td>\n",
       "      <td>0.000</td>\n",
       "      <td>1.000</td>\n",
       "      <td>0.0</td>\n",
       "    </tr>\n",
       "    <tr>\n",
       "      <th>Wet</th>\n",
       "      <td>0.00</td>\n",
       "      <td>1.00</td>\n",
       "      <td>0.0</td>\n",
       "      <td>0.000</td>\n",
       "      <td>0.000</td>\n",
       "      <td>1.000</td>\n",
       "      <td>0.0</td>\n",
       "    </tr>\n",
       "  </tbody>\n",
       "</table>\n",
       "</div>"
      ],
      "text/plain": [
       "                        $a_1$  $a_2$  $a_3$  $s_1$  $s_2$  $s_3$  $s_4$\n",
       "Configuration Pavement                                                 \n",
       "1             Dry        0.95   0.05    0.0  0.040  0.040  0.921    0.0\n",
       "              Wet        0.05   0.95    0.0  0.017  0.017  0.967    0.0\n",
       "2             Dry        0.00   1.00    0.0  0.000  0.000  1.000    0.0\n",
       "3             Wet        0.00   1.00    0.0  0.000  0.000  1.000    0.0\n",
       "              Dry        0.00   1.00    0.0  0.000  0.000  1.000    0.0\n",
       "              Wet        0.00   1.00    0.0  0.000  0.000  1.000    0.0"
      ]
     },
     "execution_count": 166,
     "metadata": {},
     "output_type": "execute_result"
    }
   ],
   "source": [
    "tuples =  [('1', 'Dry'),('1', 'Wet'),('2', 'Dry'),('3', 'Wet'),('3', 'Dry'),('3', 'Wet')]\n",
    "index = pd.MultiIndex.from_tuples(tuples, names=[\"Configuration\", \"Pavement\"])\n",
    "\n",
    "conf1 = np.concatenate([p_mat_1, prob_s_mat_1], axis=1)\n",
    "conf2 = np.concatenate([p_mat_2, prob_s_mat_2], axis=1)\n",
    "conf3 = np.concatenate([p_mat_3, prob_s_mat_3], axis=1)\n",
    "tab6  = pd.DataFrame( np.concatenate([conf1, conf2, conf3], axis=0) )\n",
    "tab6.columns = ['$a_1$', '$a_2$', '$a_3$', '$s_1$', '$s_2$', '$s_3$', '$s_4$']\n",
    "tab6.index   = index\n",
    "tab6"
   ]
  },
  {
   "cell_type": "markdown",
   "id": "26b95bfe",
   "metadata": {},
   "source": [
    "In configuration 1-Dry, as in the previous case,\n",
    "the ADS decides to change lane 95% of the times.\n",
    "However, in this case, the probability of risky scenarios $s_1$ and $s_2$ is much lower.\n",
    "This is a consequence of the fact that, as the MV has more passengers, it tends to be more autoprotective, and instead of deciding to accelerate most of the time, it decides to change lane."
   ]
  },
  {
   "cell_type": "code",
   "execution_count": 169,
   "id": "a4399b4b",
   "metadata": {},
   "outputs": [
    {
     "data": {
      "text/plain": [
       "'\\\\begin{tabular}{llrrrrrrr}\\n\\\\toprule\\n  &     &  \\\\$a\\\\_1\\\\$ &  \\\\$a\\\\_2\\\\$ &  \\\\$a\\\\_3\\\\$ &  \\\\$s\\\\_1\\\\$ &  \\\\$s\\\\_2\\\\$ &  \\\\$s\\\\_3\\\\$ &  \\\\$s\\\\_4\\\\$ \\\\\\\\\\nConfiguration & Pavement &        &        &        &        &        &        &        \\\\\\\\\\n\\\\midrule\\n1 & Dry &   0.95 &   0.05 &    0.0 &  0.040 &  0.040 &  0.921 &    0.0 \\\\\\\\\\n  & Wet &   0.05 &   0.95 &    0.0 &  0.017 &  0.017 &  0.967 &    0.0 \\\\\\\\\\n2 & Dry &   0.00 &   1.00 &    0.0 &  0.000 &  0.000 &  1.000 &    0.0 \\\\\\\\\\n3 & Wet &   0.00 &   1.00 &    0.0 &  0.000 &  0.000 &  1.000 &    0.0 \\\\\\\\\\n  & Dry &   0.00 &   1.00 &    0.0 &  0.000 &  0.000 &  1.000 &    0.0 \\\\\\\\\\n  & Wet &   0.00 &   1.00 &    0.0 &  0.000 &  0.000 &  1.000 &    0.0 \\\\\\\\\\n\\\\bottomrule\\n\\\\end{tabular}\\n'"
      ]
     },
     "execution_count": 169,
     "metadata": {},
     "output_type": "execute_result"
    }
   ],
   "source": [
    "tab6.to_latex()"
   ]
  },
  {
   "cell_type": "markdown",
   "id": "31224028",
   "metadata": {},
   "source": [
    "## Impact of Number of Pedestrians"
   ]
  },
  {
   "cell_type": "code",
   "execution_count": 95,
   "id": "a3574125",
   "metadata": {},
   "outputs": [],
   "source": [
    "wA  = np.array([5/100, 32/100, 0, 5/100, 32/100, 0, 22/100, 7/100])\n",
    "wMV = np.array([0.05, 0.1, 0.05, 0.8])\n",
    "\n",
    "params = build_params(theta2=5.0, theta3=5.0, theta4=2.0, \n",
    "                      rho_A=0.5, rho_MV=1.0,\n",
    "                      weights_A=wA, weights_MV=wMV)\n",
    "ads = lane_changing(params)\n",
    "results_wet = ads.simulate(theta=1)\n",
    "results_dry = ads.simulate(theta=0)"
   ]
  },
  {
   "cell_type": "code",
   "execution_count": 96,
   "id": "3b655933",
   "metadata": {},
   "outputs": [
    {
     "data": {
      "text/plain": [
       "{'prob_sensor_00': 0.9025,\n",
       " 'prob_sensor_01': 0.04750000000000004,\n",
       " 'prob_sensor_10': 0.04750000000000004,\n",
       " 'prob_sensor_11': 0.0025000000000000044,\n",
       " 'a_opt_0': 1,\n",
       " 'a_opt_1': 1,\n",
       " 'm_opt_00': 0,\n",
       " 'm_opt_01': 0,\n",
       " 'm_opt_10': 0,\n",
       " 'm_opt_11': 0,\n",
       " 'prob_s': array([0., 0., 1., 0.])}"
      ]
     },
     "execution_count": 96,
     "metadata": {},
     "output_type": "execute_result"
    }
   ],
   "source": [
    "results_dry"
   ]
  },
  {
   "cell_type": "markdown",
   "id": "d6d12054",
   "metadata": {},
   "source": [
    "## Impact of Risk aversion Coefficient"
   ]
  }
 ],
 "metadata": {
  "kernelspec": {
   "display_name": "Python 3 (ipykernel)",
   "language": "python",
   "name": "python3"
  },
  "language_info": {
   "codemirror_mode": {
    "name": "ipython",
    "version": 3
   },
   "file_extension": ".py",
   "mimetype": "text/x-python",
   "name": "python",
   "nbconvert_exporter": "python",
   "pygments_lexer": "ipython3",
   "version": "3.9.7"
  }
 },
 "nbformat": 4,
 "nbformat_minor": 5
}
