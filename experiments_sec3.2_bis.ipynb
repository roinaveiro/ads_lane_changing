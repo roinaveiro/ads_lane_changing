{
 "cells": [
  {
   "cell_type": "code",
   "execution_count": 1,
   "id": "08027ae4",
   "metadata": {},
   "outputs": [],
   "source": [
    "from lane_changing import *\n",
    "from data2 import build_params\n",
    "\n",
    "def build_result_mat(results_dry, results_wet):\n",
    "    p_dry = np.zeros([3])\n",
    "    p_wet = np.zeros([3])\n",
    "\n",
    "    p_dry[ results_dry['a_opt_0'] ] += results_dry['prob_sensor_00'] + results_dry['prob_sensor_10']\n",
    "    p_dry[ results_dry['a_opt_1'] ] += results_dry['prob_sensor_10'] + results_dry['prob_sensor_11']\n",
    "\n",
    "    p_wet[ results_dry['a_opt_0'] ] += results_wet['prob_sensor_00'] + results_wet['prob_sensor_10']\n",
    "    p_wet[ results_dry['a_opt_1'] ] += results_wet['prob_sensor_10'] + results_wet['prob_sensor_11']\n",
    "\n",
    "    p_mat = np.array([p_dry, p_wet])   \n",
    "    \n",
    "    prob_s_dry = np.round(results_dry['prob_s'], 3)\n",
    "    #prob_s_dry = prob_s_dry/np.sum(prob_s_dry)\n",
    "    prob_s_wet = np.round(results_wet['prob_s'], 3)\n",
    "    #prob_s_wet = prob_s_dry/np.sum(prob_s_wet)\n",
    "    prob_s_mat = np.array([prob_s_dry, prob_s_wet])\n",
    "    \n",
    "    return p_mat, prob_s_mat"
   ]
  },
  {
   "cell_type": "markdown",
   "id": "e60bc3da",
   "metadata": {},
   "source": [
    "# Section 3.2.2\n",
    "\n",
    "For the reference experiments we choose the following parameterization:\n",
    "\n",
    "* ADS weights: `wA  = np.array([3/100, 22/100, 0, 3/100, 22/100, 0, 22/100, 31/100])`\n",
    "* ADS risk aversion coefficient: `rho_A=0.5`\n",
    "\n",
    "* MV weights: `np.array([0.1, 0.5, 0.05, 0.35])`\n",
    "* MV risk aversion coefficient: `rho_MV=1.0`\n",
    "\n",
    "* 1 passenger in ADS, 1 passenger in MV, 1 pedestrian.\n",
    "\n",
    "Notice that this is a quite risky driving scene, in the sense that both the\n",
    "ADS and the MV give a lot of weight to speed (last component of the vectors)\n",
    "compared to the weight given to safety.\n"
   ]
  },
  {
   "cell_type": "code",
   "execution_count": 2,
   "id": "2c237b4c",
   "metadata": {},
   "outputs": [],
   "source": [
    "wA  = np.array([3/100, 22/100, 0, 3/100, 22/100, 0, 22/100, 31/100])\n",
    "wMV = np.array([0.1, 0.5, 0.05, 0.35])\n",
    "\n",
    "params = build_params(theta2=1.0, theta3=1.0, theta4=1.0, \n",
    "                      rho_A=0.5, rho_MV=1.0,\n",
    "                      weights_A=wA, weights_MV=wMV)\n",
    "ads = lane_changing(params)"
   ]
  },
  {
   "cell_type": "code",
   "execution_count": 3,
   "id": "6cbf6605",
   "metadata": {},
   "outputs": [],
   "source": [
    "results_wet = ads.simulate(theta=1)\n",
    "results_dry = ads.simulate(theta=0)\n",
    "p_mat, prob_s_mat = build_result_mat(results_dry, results_wet)"
   ]
  },
  {
   "cell_type": "markdown",
   "id": "c3959258",
   "metadata": {},
   "source": [
    "We first show the $p(m|a)$ inferred by the ADS."
   ]
  },
  {
   "cell_type": "code",
   "execution_count": 4,
   "id": "6ae1d569",
   "metadata": {},
   "outputs": [
    {
     "data": {
      "text/html": [
       "<div>\n",
       "<style scoped>\n",
       "    .dataframe tbody tr th:only-of-type {\n",
       "        vertical-align: middle;\n",
       "    }\n",
       "\n",
       "    .dataframe tbody tr th {\n",
       "        vertical-align: top;\n",
       "    }\n",
       "\n",
       "    .dataframe thead th {\n",
       "        text-align: right;\n",
       "    }\n",
       "</style>\n",
       "<table border=\"1\" class=\"dataframe\">\n",
       "  <thead>\n",
       "    <tr style=\"text-align: right;\">\n",
       "      <th></th>\n",
       "      <th>$m_1$</th>\n",
       "      <th>$m_2$</th>\n",
       "      <th>$m_3$</th>\n",
       "    </tr>\n",
       "  </thead>\n",
       "  <tbody>\n",
       "    <tr>\n",
       "      <th>$a_1$</th>\n",
       "      <td>0.0</td>\n",
       "      <td>0.846</td>\n",
       "      <td>0.154</td>\n",
       "    </tr>\n",
       "    <tr>\n",
       "      <th>$a_2$</th>\n",
       "      <td>1.0</td>\n",
       "      <td>0.000</td>\n",
       "      <td>0.000</td>\n",
       "    </tr>\n",
       "    <tr>\n",
       "      <th>$a_3$</th>\n",
       "      <td>1.0</td>\n",
       "      <td>0.000</td>\n",
       "      <td>0.000</td>\n",
       "    </tr>\n",
       "  </tbody>\n",
       "</table>\n",
       "</div>"
      ],
      "text/plain": [
       "       $m_1$  $m_2$  $m_3$\n",
       "$a_1$    0.0  0.846  0.154\n",
       "$a_2$    1.0  0.000  0.000\n",
       "$a_3$    1.0  0.000  0.000"
      ]
     },
     "execution_count": 4,
     "metadata": {},
     "output_type": "execute_result"
    }
   ],
   "source": [
    "df_probs = pd.DataFrame(ads.pam)\n",
    "df_probs.columns = ['$m_1$', '$m_2$', '$m_3$']\n",
    "df_probs.index = ['$a_1$', '$a_2$', '$a_3$']\n",
    "df_probs"
   ]
  },
  {
   "cell_type": "markdown",
   "id": "d15bff55",
   "metadata": {},
   "source": [
    "When ADS decides to change lane, the ADS thinks that the MV will most likely deccelerate or (with less probability) change lane.\n",
    "\n",
    "When ADS decides to remain it is very sure that MV will accelerate.\n",
    "\n",
    "If ADS decides to make and emergency stop, the ADS is very sure that MV will make one too."
   ]
  },
  {
   "cell_type": "code",
   "execution_count": 6,
   "id": "05f65af3",
   "metadata": {},
   "outputs": [
    {
     "data": {
      "text/plain": [
       "'\\\\begin{tabular}{lrrr}\\n & $m_1$ & $m_2$ & $m_3$ \\\\\\\\\\n$a_1$ & 0.000000 & 0.846000 & 0.154000 \\\\\\\\\\n$a_2$ & 1.000000 & 0.000000 & 0.000000 \\\\\\\\\\n$a_3$ & 1.000000 & 0.000000 & 0.000000 \\\\\\\\\\n\\\\end{tabular}\\n'"
      ]
     },
     "execution_count": 6,
     "metadata": {},
     "output_type": "execute_result"
    }
   ],
   "source": [
    "df_probs.style.to_latex()"
   ]
  },
  {
   "cell_type": "markdown",
   "id": "1002dc11",
   "metadata": {},
   "source": [
    "### Table 4"
   ]
  },
  {
   "cell_type": "code",
   "execution_count": 7,
   "id": "2dd449dd",
   "metadata": {},
   "outputs": [
    {
     "data": {
      "text/html": [
       "<div>\n",
       "<style scoped>\n",
       "    .dataframe tbody tr th:only-of-type {\n",
       "        vertical-align: middle;\n",
       "    }\n",
       "\n",
       "    .dataframe tbody tr th {\n",
       "        vertical-align: top;\n",
       "    }\n",
       "\n",
       "    .dataframe thead th {\n",
       "        text-align: right;\n",
       "    }\n",
       "</style>\n",
       "<table border=\"1\" class=\"dataframe\">\n",
       "  <thead>\n",
       "    <tr style=\"text-align: right;\">\n",
       "      <th></th>\n",
       "      <th>$a_1$</th>\n",
       "      <th>$a_2$</th>\n",
       "      <th>$a_3$</th>\n",
       "    </tr>\n",
       "    <tr>\n",
       "      <th>Pavement</th>\n",
       "      <th></th>\n",
       "      <th></th>\n",
       "      <th></th>\n",
       "    </tr>\n",
       "  </thead>\n",
       "  <tbody>\n",
       "    <tr>\n",
       "      <th>Dry</th>\n",
       "      <td>0.95</td>\n",
       "      <td>0.05</td>\n",
       "      <td>0.0</td>\n",
       "    </tr>\n",
       "    <tr>\n",
       "      <th>Wet</th>\n",
       "      <td>0.05</td>\n",
       "      <td>0.95</td>\n",
       "      <td>0.0</td>\n",
       "    </tr>\n",
       "  </tbody>\n",
       "</table>\n",
       "</div>"
      ],
      "text/plain": [
       "          $a_1$  $a_2$  $a_3$\n",
       "Pavement                     \n",
       "Dry        0.95   0.05    0.0\n",
       "Wet        0.05   0.95    0.0"
      ]
     },
     "execution_count": 7,
     "metadata": {},
     "output_type": "execute_result"
    }
   ],
   "source": [
    "d = {\n",
    "     'Pavement': ['Dry', 'Wet'],\n",
    "     '$a_1$'   : p_mat[:,0],\n",
    "     '$a_2$'   : p_mat[:,1],\n",
    "     '$a_3$'   : p_mat[:,2],\n",
    "    }\n",
    "df = pd.DataFrame(d).set_index('Pavement')\n",
    "df"
   ]
  },
  {
   "cell_type": "markdown",
   "id": "71012361",
   "metadata": {},
   "source": [
    "When pavement is dry, the ADS decides to change lane more often than not. \n",
    "When pavement is wet, it tends to be more conservative and decides more often not to change lane."
   ]
  },
  {
   "cell_type": "code",
   "execution_count": 10,
   "id": "95cc70ae",
   "metadata": {},
   "outputs": [
    {
     "data": {
      "text/plain": [
       "'\\\\begin{tabular}{lrrr}\\n & $a_1$ & $a_2$ & $a_3$ \\\\\\\\\\nPavement &  &  &  \\\\\\\\\\nDry & 0.950000 & 0.050000 & 0.000000 \\\\\\\\\\nWet & 0.050000 & 0.950000 & 0.000000 \\\\\\\\\\n\\\\end{tabular}\\n'"
      ]
     },
     "execution_count": 10,
     "metadata": {},
     "output_type": "execute_result"
    }
   ],
   "source": [
    "df.style.to_latex()"
   ]
  },
  {
   "cell_type": "markdown",
   "id": "922e8b66",
   "metadata": {},
   "source": [
    "### Table 5"
   ]
  },
  {
   "cell_type": "code",
   "execution_count": 28,
   "id": "2d23d587",
   "metadata": {},
   "outputs": [
    {
     "data": {
      "text/html": [
       "<div>\n",
       "<style scoped>\n",
       "    .dataframe tbody tr th:only-of-type {\n",
       "        vertical-align: middle;\n",
       "    }\n",
       "\n",
       "    .dataframe tbody tr th {\n",
       "        vertical-align: top;\n",
       "    }\n",
       "\n",
       "    .dataframe thead th {\n",
       "        text-align: right;\n",
       "    }\n",
       "</style>\n",
       "<table border=\"1\" class=\"dataframe\">\n",
       "  <thead>\n",
       "    <tr style=\"text-align: right;\">\n",
       "      <th></th>\n",
       "      <th>$s_1$</th>\n",
       "      <th>$s_2$</th>\n",
       "      <th>$s_3$</th>\n",
       "      <th>$s_4$</th>\n",
       "      <th>$s_5$</th>\n",
       "    </tr>\n",
       "    <tr>\n",
       "      <th>Pavement</th>\n",
       "      <th></th>\n",
       "      <th></th>\n",
       "      <th></th>\n",
       "      <th></th>\n",
       "      <th></th>\n",
       "    </tr>\n",
       "  </thead>\n",
       "  <tbody>\n",
       "    <tr>\n",
       "      <th>Dry</th>\n",
       "      <td>0.158</td>\n",
       "      <td>0.158</td>\n",
       "      <td>0.681</td>\n",
       "      <td>0.0</td>\n",
       "      <td>0.003</td>\n",
       "    </tr>\n",
       "    <tr>\n",
       "      <th>Wet</th>\n",
       "      <td>0.017</td>\n",
       "      <td>0.017</td>\n",
       "      <td>0.682</td>\n",
       "      <td>0.0</td>\n",
       "      <td>0.285</td>\n",
       "    </tr>\n",
       "  </tbody>\n",
       "</table>\n",
       "</div>"
      ],
      "text/plain": [
       "          $s_1$  $s_2$  $s_3$  $s_4$  $s_5$\n",
       "Pavement                                   \n",
       "Dry       0.158  0.158  0.681    0.0  0.003\n",
       "Wet       0.017  0.017  0.682    0.0  0.285"
      ]
     },
     "execution_count": 28,
     "metadata": {},
     "output_type": "execute_result"
    }
   ],
   "source": [
    "d = {\n",
    "     'Pavement': ['Dry', 'Wet'],\n",
    "     '$s_1$'   : prob_s_mat[:,0],\n",
    "     '$s_2$'   : prob_s_mat[:,1],\n",
    "     '$s_3$'   : prob_s_mat[:,2],\n",
    "     '$s_4$'   : prob_s_mat[:,3],\n",
    "     '$s_5$'   : prob_s_mat[:,4],\n",
    "    \n",
    "\n",
    "    }\n",
    "df = pd.DataFrame(d).set_index('Pavement')\n",
    "df"
   ]
  },
  {
   "cell_type": "markdown",
   "id": "97140a54",
   "metadata": {},
   "source": [
    "This is a consequence of the actions chosen. When pavement is dry, ADS chooses to change lane more often and thus, risky scenarios ($s_1$ and $s_2$) occurr more often. "
   ]
  },
  {
   "cell_type": "code",
   "execution_count": 30,
   "id": "8297b88c",
   "metadata": {},
   "outputs": [
    {
     "data": {
      "text/plain": [
       "'\\\\begin{tabular}{lrrrrr}\\n & $s_1$ & $s_2$ & $s_3$ & $s_4$ & $s_5$ \\\\\\\\\\nPavement &  &  &  &  &  \\\\\\\\\\nDry & 0.158000 & 0.158000 & 0.681000 & 0.000000 & 0.003000 \\\\\\\\\\nWet & 0.017000 & 0.017000 & 0.682000 & 0.000000 & 0.285000 \\\\\\\\\\n\\\\end{tabular}\\n'"
      ]
     },
     "execution_count": 30,
     "metadata": {},
     "output_type": "execute_result"
    }
   ],
   "source": [
    "df.style.to_latex()"
   ]
  },
  {
   "cell_type": "markdown",
   "id": "37cb59ba",
   "metadata": {},
   "source": [
    "### Table 6\n",
    "\n",
    "Same weights as before. We compare 3 configurations.\n",
    "\n",
    "* No passengers in ADS, 5 passengers in MV, 1 pedestrian.\n",
    "* 4 in ADS, 1 passengers in MV, 1 pedestrian.\n",
    "* 5 in ADS, 5 passengers in MV, 0 pedestrians."
   ]
  },
  {
   "cell_type": "code",
   "execution_count": 31,
   "id": "37868754",
   "metadata": {},
   "outputs": [],
   "source": [
    "wA  = np.array([3/100, 22/100, 0, 3/100, 22/100, 0, 22/100, 31/100])\n",
    "wMV = np.array([0.1, 0.5, 0.05, 0.35])\n"
   ]
  },
  {
   "cell_type": "code",
   "execution_count": 32,
   "id": "4fbbf1a3",
   "metadata": {},
   "outputs": [],
   "source": [
    "params = build_params(theta2=0.0, theta3=5.0, theta4=1.0, \n",
    "                      rho_A=0.5, rho_MV=1.0,\n",
    "                      weights_A=wA, weights_MV=wMV)\n",
    "ads = lane_changing(params)\n",
    "\n",
    "results_wet_1 = ads.simulate(theta=1)\n",
    "results_dry_1 = ads.simulate(theta=0)\n",
    "\n",
    "p_mat_1, prob_s_mat_1 = build_result_mat(results_dry_1, results_wet_1)"
   ]
  },
  {
   "cell_type": "code",
   "execution_count": 33,
   "id": "a0806915",
   "metadata": {},
   "outputs": [],
   "source": [
    "params = build_params(theta2=4.0, theta3=1.0, theta4=1.0, \n",
    "                      rho_A=0.5, rho_MV=1.0,\n",
    "                      weights_A=wA, weights_MV=wMV)\n",
    "ads = lane_changing(params)\n",
    "\n",
    "results_wet_2 = ads.simulate(theta=1)\n",
    "results_dry_2 = ads.simulate(theta=0)\n",
    "\n",
    "p_mat_2, prob_s_mat_2 = build_result_mat(results_dry_2, results_wet_2)"
   ]
  },
  {
   "cell_type": "code",
   "execution_count": 34,
   "id": "f5690b7b",
   "metadata": {},
   "outputs": [],
   "source": [
    "params = build_params(theta2=5.0, theta3=5.0, theta4=0.0, \n",
    "                      rho_A=0.5, rho_MV=1.0,\n",
    "                      weights_A=wA, weights_MV=wMV)\n",
    "ads = lane_changing(params)\n",
    "\n",
    "results_wet_3 = ads.simulate(theta=1)\n",
    "results_dry_3 = ads.simulate(theta=0)\n",
    "\n",
    "p_mat_3, prob_s_mat_3 = build_result_mat(results_dry_3, results_wet_3)"
   ]
  },
  {
   "cell_type": "code",
   "execution_count": 35,
   "id": "2f5b048f",
   "metadata": {},
   "outputs": [
    {
     "data": {
      "text/html": [
       "<div>\n",
       "<style scoped>\n",
       "    .dataframe tbody tr th:only-of-type {\n",
       "        vertical-align: middle;\n",
       "    }\n",
       "\n",
       "    .dataframe tbody tr th {\n",
       "        vertical-align: top;\n",
       "    }\n",
       "\n",
       "    .dataframe thead th {\n",
       "        text-align: right;\n",
       "    }\n",
       "</style>\n",
       "<table border=\"1\" class=\"dataframe\">\n",
       "  <thead>\n",
       "    <tr style=\"text-align: right;\">\n",
       "      <th></th>\n",
       "      <th></th>\n",
       "      <th>$a_1$</th>\n",
       "      <th>$a_2$</th>\n",
       "      <th>$a_3$</th>\n",
       "      <th>$s_1$</th>\n",
       "      <th>$s_2$</th>\n",
       "      <th>$s_3$</th>\n",
       "      <th>$s_4$</th>\n",
       "      <th>$s_5$</th>\n",
       "    </tr>\n",
       "    <tr>\n",
       "      <th>Configuration</th>\n",
       "      <th>Pavement</th>\n",
       "      <th></th>\n",
       "      <th></th>\n",
       "      <th></th>\n",
       "      <th></th>\n",
       "      <th></th>\n",
       "      <th></th>\n",
       "      <th></th>\n",
       "      <th></th>\n",
       "    </tr>\n",
       "  </thead>\n",
       "  <tbody>\n",
       "    <tr>\n",
       "      <th rowspan=\"2\" valign=\"top\">1</th>\n",
       "      <th>Dry</th>\n",
       "      <td>0.95</td>\n",
       "      <td>0.05</td>\n",
       "      <td>0.0</td>\n",
       "      <td>0.040</td>\n",
       "      <td>0.040</td>\n",
       "      <td>0.918</td>\n",
       "      <td>0.0</td>\n",
       "      <td>0.003</td>\n",
       "    </tr>\n",
       "    <tr>\n",
       "      <th>Wet</th>\n",
       "      <td>0.05</td>\n",
       "      <td>0.95</td>\n",
       "      <td>0.0</td>\n",
       "      <td>0.017</td>\n",
       "      <td>0.017</td>\n",
       "      <td>0.682</td>\n",
       "      <td>0.0</td>\n",
       "      <td>0.285</td>\n",
       "    </tr>\n",
       "    <tr>\n",
       "      <th>2</th>\n",
       "      <th>Dry</th>\n",
       "      <td>0.00</td>\n",
       "      <td>1.00</td>\n",
       "      <td>0.0</td>\n",
       "      <td>0.000</td>\n",
       "      <td>0.000</td>\n",
       "      <td>0.950</td>\n",
       "      <td>0.0</td>\n",
       "      <td>0.050</td>\n",
       "    </tr>\n",
       "    <tr>\n",
       "      <th rowspan=\"3\" valign=\"top\">3</th>\n",
       "      <th>Wet</th>\n",
       "      <td>0.00</td>\n",
       "      <td>1.00</td>\n",
       "      <td>0.0</td>\n",
       "      <td>0.000</td>\n",
       "      <td>0.000</td>\n",
       "      <td>0.700</td>\n",
       "      <td>0.0</td>\n",
       "      <td>0.300</td>\n",
       "    </tr>\n",
       "    <tr>\n",
       "      <th>Dry</th>\n",
       "      <td>0.00</td>\n",
       "      <td>1.00</td>\n",
       "      <td>0.0</td>\n",
       "      <td>0.000</td>\n",
       "      <td>0.000</td>\n",
       "      <td>0.950</td>\n",
       "      <td>0.0</td>\n",
       "      <td>0.050</td>\n",
       "    </tr>\n",
       "    <tr>\n",
       "      <th>Wet</th>\n",
       "      <td>0.00</td>\n",
       "      <td>1.00</td>\n",
       "      <td>0.0</td>\n",
       "      <td>0.000</td>\n",
       "      <td>0.000</td>\n",
       "      <td>0.700</td>\n",
       "      <td>0.0</td>\n",
       "      <td>0.300</td>\n",
       "    </tr>\n",
       "  </tbody>\n",
       "</table>\n",
       "</div>"
      ],
      "text/plain": [
       "                        $a_1$  $a_2$  $a_3$  $s_1$  $s_2$  $s_3$  $s_4$  $s_5$\n",
       "Configuration Pavement                                                        \n",
       "1             Dry        0.95   0.05    0.0  0.040  0.040  0.918    0.0  0.003\n",
       "              Wet        0.05   0.95    0.0  0.017  0.017  0.682    0.0  0.285\n",
       "2             Dry        0.00   1.00    0.0  0.000  0.000  0.950    0.0  0.050\n",
       "3             Wet        0.00   1.00    0.0  0.000  0.000  0.700    0.0  0.300\n",
       "              Dry        0.00   1.00    0.0  0.000  0.000  0.950    0.0  0.050\n",
       "              Wet        0.00   1.00    0.0  0.000  0.000  0.700    0.0  0.300"
      ]
     },
     "execution_count": 35,
     "metadata": {},
     "output_type": "execute_result"
    }
   ],
   "source": [
    "tuples =  [('1', 'Dry'),('1', 'Wet'),('2', 'Dry'),('3', 'Wet'),('3', 'Dry'),('3', 'Wet')]\n",
    "index = pd.MultiIndex.from_tuples(tuples, names=[\"Configuration\", \"Pavement\"])\n",
    "\n",
    "conf1 = np.concatenate([p_mat_1, prob_s_mat_1], axis=1)\n",
    "conf2 = np.concatenate([p_mat_2, prob_s_mat_2], axis=1)\n",
    "conf3 = np.concatenate([p_mat_3, prob_s_mat_3], axis=1)\n",
    "tab6  = pd.DataFrame( np.concatenate([conf1, conf2, conf3], axis=0) )\n",
    "tab6.columns = ['$a_1$', '$a_2$', '$a_3$', '$s_1$', '$s_2$', '$s_3$', '$s_4$', '$s_5$']\n",
    "tab6.index   = index\n",
    "tab6"
   ]
  },
  {
   "cell_type": "markdown",
   "id": "26b95bfe",
   "metadata": {},
   "source": [
    "In configuration 1-Dry, as in the previous case,\n",
    "the ADS decides to change lane 95% of the times.\n",
    "However, in this case, the probability of risky scenarios $s_1$ and $s_2$ is much lower.\n",
    "This is a consequence of the fact that, as the MV has more passengers, it tends to be more autoprotective, and instead of deciding to accelerate most of the time, it decides to change lane.\n",
    "\n",
    "For configuration 2 the MV has less passengers so tends to be less protective. Given that the APS cares equally about its passengers and the MV ones, this induces the APS being more consevatives and thus choosing to remain in the lane. \n",
    "\n",
    "In configuration 3, given the high number of people at risk, the ADS decides to remain in the lane too.\n"
   ]
  },
  {
   "cell_type": "code",
   "execution_count": 19,
   "id": "a4399b4b",
   "metadata": {},
   "outputs": [
    {
     "data": {
      "text/plain": [
       "'\\\\begin{tabular}{llrrrrrrrr}\\n &  & $a_1$ & $a_2$ & $a_3$ & $s_1$ & $s_2$ & $s_3$ & $s_4$ & $s_5$ \\\\\\\\\\nConfiguration & Pavement &  &  &  &  &  &  &  &  \\\\\\\\\\n\\\\multirow[c]{2}{*}{1} & Dry & 0.950000 & 0.050000 & 0.000000 & 0.040000 & 0.040000 & 0.918000 & 0.000000 & 0.003000 \\\\\\\\\\n & Wet & 0.050000 & 0.950000 & 0.000000 & 0.017000 & 0.017000 & 0.682000 & 0.000000 & 0.285000 \\\\\\\\\\n2 & Dry & 0.000000 & 1.000000 & 0.000000 & 0.000000 & 0.000000 & 0.950000 & 0.000000 & 0.050000 \\\\\\\\\\n\\\\multirow[c]{3}{*}{3} & Wet & 0.000000 & 1.000000 & 0.000000 & 0.000000 & 0.000000 & 0.700000 & 0.000000 & 0.300000 \\\\\\\\\\n & Dry & 0.000000 & 1.000000 & 0.000000 & 0.000000 & 0.000000 & 0.950000 & 0.000000 & 0.050000 \\\\\\\\\\n & Wet & 0.000000 & 1.000000 & 0.000000 & 0.000000 & 0.000000 & 0.700000 & 0.000000 & 0.300000 \\\\\\\\\\n\\\\end{tabular}\\n'"
      ]
     },
     "execution_count": 19,
     "metadata": {},
     "output_type": "execute_result"
    }
   ],
   "source": [
    "tab6.style.to_latex()"
   ]
  },
  {
   "cell_type": "markdown",
   "id": "31224028",
   "metadata": {},
   "source": [
    "## Impact of Number of Pedestrians"
   ]
  },
  {
   "cell_type": "markdown",
   "id": "994e870e",
   "metadata": {},
   "source": [
    "With the previous weight configuration, the number of pedestrians in the scene did not affect the ADS action because speed was very important (compared to safety). As a consequence, making an emergency stop was very expensive and never optimal.\n",
    "\n",
    "We define now an ADS in which the weight given to speed is much less, and see how the number of pedestrians affect the optimal actions taken.\n",
    "For this case, both the ADS and MV have 5 passengers."
   ]
  },
  {
   "cell_type": "code",
   "execution_count": 46,
   "id": "a3574125",
   "metadata": {},
   "outputs": [],
   "source": [
    "wA  = np.array([5/100, 32/100, 0, 5/100, 32/100, 0, 22/100, 7/100])\n",
    "wMV = np.array([0.05, 0.1, 0.05, 0.8])\n",
    "\n",
    "params = build_params(theta2=5.0, theta3=0.0, theta4=0.0, \n",
    "                      rho_A=0.5, rho_MV=1.0,\n",
    "                      weights_A=wA, weights_MV=wMV)\n",
    "ads = lane_changing(params)\n",
    "results_wet_1 = ads.simulate(theta=1)\n",
    "results_dry_1 = ads.simulate(theta=0)\n",
    "p_mat_1, prob_s_mat_1 = build_result_mat(results_dry_1, results_wet_1)"
   ]
  },
  {
   "cell_type": "code",
   "execution_count": 47,
   "id": "1bf88fdc",
   "metadata": {},
   "outputs": [],
   "source": [
    "params = build_params(theta2=5.0, theta3=5.0, theta4=5.0, \n",
    "                      rho_A=0.5, rho_MV=1.0,\n",
    "                      weights_A=wA, weights_MV=wMV)\n",
    "ads = lane_changing(params)\n",
    "results_wet_2 = ads.simulate(theta=1)\n",
    "results_dry_2 = ads.simulate(theta=0)\n",
    "p_mat_2, prob_s_mat_2 = build_result_mat(results_dry_2, results_wet_2)"
   ]
  },
  {
   "cell_type": "code",
   "execution_count": 48,
   "id": "3b655933",
   "metadata": {},
   "outputs": [
    {
     "data": {
      "text/html": [
       "<div>\n",
       "<style scoped>\n",
       "    .dataframe tbody tr th:only-of-type {\n",
       "        vertical-align: middle;\n",
       "    }\n",
       "\n",
       "    .dataframe tbody tr th {\n",
       "        vertical-align: top;\n",
       "    }\n",
       "\n",
       "    .dataframe thead th {\n",
       "        text-align: right;\n",
       "    }\n",
       "</style>\n",
       "<table border=\"1\" class=\"dataframe\">\n",
       "  <thead>\n",
       "    <tr style=\"text-align: right;\">\n",
       "      <th></th>\n",
       "      <th></th>\n",
       "      <th>$a_1$</th>\n",
       "      <th>$a_2$</th>\n",
       "      <th>$a_3$</th>\n",
       "      <th>$s_1$</th>\n",
       "      <th>$s_2$</th>\n",
       "      <th>$s_3$</th>\n",
       "      <th>$s_4$</th>\n",
       "      <th>$s_5$</th>\n",
       "    </tr>\n",
       "    <tr>\n",
       "      <th>Configuration</th>\n",
       "      <th>Pavement</th>\n",
       "      <th></th>\n",
       "      <th></th>\n",
       "      <th></th>\n",
       "      <th></th>\n",
       "      <th></th>\n",
       "      <th></th>\n",
       "      <th></th>\n",
       "      <th></th>\n",
       "    </tr>\n",
       "  </thead>\n",
       "  <tbody>\n",
       "    <tr>\n",
       "      <th rowspan=\"2\" valign=\"top\">1</th>\n",
       "      <th>Dry</th>\n",
       "      <td>0.0</td>\n",
       "      <td>0.95</td>\n",
       "      <td>0.05</td>\n",
       "      <td>0.0</td>\n",
       "      <td>0.0</td>\n",
       "      <td>0.902</td>\n",
       "      <td>0.05</td>\n",
       "      <td>0.048</td>\n",
       "    </tr>\n",
       "    <tr>\n",
       "      <th>Wet</th>\n",
       "      <td>0.0</td>\n",
       "      <td>0.05</td>\n",
       "      <td>0.95</td>\n",
       "      <td>0.0</td>\n",
       "      <td>0.0</td>\n",
       "      <td>0.035</td>\n",
       "      <td>0.95</td>\n",
       "      <td>0.015</td>\n",
       "    </tr>\n",
       "    <tr>\n",
       "      <th rowspan=\"2\" valign=\"top\">2</th>\n",
       "      <th>Dry</th>\n",
       "      <td>0.0</td>\n",
       "      <td>1.00</td>\n",
       "      <td>0.00</td>\n",
       "      <td>0.0</td>\n",
       "      <td>0.0</td>\n",
       "      <td>0.950</td>\n",
       "      <td>0.00</td>\n",
       "      <td>0.050</td>\n",
       "    </tr>\n",
       "    <tr>\n",
       "      <th>Wet</th>\n",
       "      <td>0.0</td>\n",
       "      <td>1.00</td>\n",
       "      <td>0.00</td>\n",
       "      <td>0.0</td>\n",
       "      <td>0.0</td>\n",
       "      <td>0.700</td>\n",
       "      <td>0.00</td>\n",
       "      <td>0.300</td>\n",
       "    </tr>\n",
       "  </tbody>\n",
       "</table>\n",
       "</div>"
      ],
      "text/plain": [
       "                        $a_1$  $a_2$  $a_3$  $s_1$  $s_2$  $s_3$  $s_4$  $s_5$\n",
       "Configuration Pavement                                                        \n",
       "1             Dry         0.0   0.95   0.05    0.0    0.0  0.902   0.05  0.048\n",
       "              Wet         0.0   0.05   0.95    0.0    0.0  0.035   0.95  0.015\n",
       "2             Dry         0.0   1.00   0.00    0.0    0.0  0.950   0.00  0.050\n",
       "              Wet         0.0   1.00   0.00    0.0    0.0  0.700   0.00  0.300"
      ]
     },
     "execution_count": 48,
     "metadata": {},
     "output_type": "execute_result"
    }
   ],
   "source": [
    "tuples =  [('1', 'Dry'),('1', 'Wet'),('2', 'Dry'), ('2', 'Wet')]\n",
    "index = pd.MultiIndex.from_tuples(tuples, names=[\"Configuration\", \"Pavement\"])\n",
    "\n",
    "conf1 = np.concatenate([p_mat_1, prob_s_mat_1], axis=1)\n",
    "conf2 = np.concatenate([p_mat_2, prob_s_mat_2], axis=1)\n",
    "tab7  = pd.DataFrame( np.concatenate([conf1, conf2], axis=0) )\n",
    "tab7.columns = ['$a_1$', '$a_2$', '$a_3$', '$s_1$', '$s_2$', '$s_3$', '$s_4$', '$s_5$']\n",
    "tab7.index   = index\n",
    "tab7"
   ]
  },
  {
   "cell_type": "markdown",
   "id": "dbcbd6cd",
   "metadata": {},
   "source": [
    "In configuration 1, there are no pedestrians in the road and, given that both the ADS and the MV are highly populated, the ADS chooses to make an emergency stop, as this won't put anybody at risk. However, when there are 5 pedestrias (configuration 2) the ADS does not choose the emergency stop anymore."
   ]
  },
  {
   "cell_type": "code",
   "execution_count": 42,
   "id": "03acc5de",
   "metadata": {},
   "outputs": [
    {
     "data": {
      "text/plain": [
       "'\\\\begin{tabular}{llrrrrrrrr}\\n &  & $a_1$ & $a_2$ & $a_3$ & $s_1$ & $s_2$ & $s_3$ & $s_4$ & $s_5$ \\\\\\\\\\nConfiguration & Pavement &  &  &  &  &  &  &  &  \\\\\\\\\\n\\\\multirow[c]{2}{*}{1} & Dry & 0.000000 & 0.950000 & 0.050000 & 0.000000 & 0.000000 & 0.902000 & 0.050000 & 0.048000 \\\\\\\\\\n & Wet & 0.000000 & 0.050000 & 0.950000 & 0.000000 & 0.000000 & 0.035000 & 0.950000 & 0.015000 \\\\\\\\\\n\\\\multirow[c]{2}{*}{2} & Dry & 0.000000 & 1.000000 & 0.000000 & 0.000000 & 0.000000 & 0.950000 & 0.000000 & 0.050000 \\\\\\\\\\n & Wet & 0.000000 & 1.000000 & 0.000000 & 0.000000 & 0.000000 & 0.700000 & 0.000000 & 0.300000 \\\\\\\\\\n\\\\end{tabular}\\n'"
      ]
     },
     "execution_count": 42,
     "metadata": {},
     "output_type": "execute_result"
    }
   ],
   "source": [
    "tab7.style.to_latex()"
   ]
  },
  {
   "cell_type": "markdown",
   "id": "d6d12054",
   "metadata": {},
   "source": [
    "## Impact of Risk aversion Coefficient\n",
    "\n",
    "We recover the initial weight configuration and study the effect of the ADS risk aversion coefficient.\n",
    "We compare $\\rho = 0.5$ and $\\rho = 2.5$."
   ]
  },
  {
   "cell_type": "code",
   "execution_count": 50,
   "id": "96f33090",
   "metadata": {},
   "outputs": [],
   "source": [
    "wA  = np.array([3/100, 22/100, 0, 3/100, 22/100, 0, 22/100, 31/100])\n",
    "wMV = np.array([0.1, 0.5, 0.05, 0.35])\n",
    "\n",
    "params = build_params(theta2=1.0, theta3=1.0, theta4=1.0, \n",
    "                      rho_A=0.5, rho_MV=1.0,\n",
    "                      weights_A=wA, weights_MV=wMV)\n",
    "ads = lane_changing(params)\n",
    "results_wet_1 = ads.simulate(theta=1)\n",
    "results_dry_1 = ads.simulate(theta=0)\n",
    "p_mat_1, prob_s_mat_1 = build_result_mat(results_dry_1, results_wet_1)"
   ]
  },
  {
   "cell_type": "code",
   "execution_count": 51,
   "id": "bbcc59f3",
   "metadata": {},
   "outputs": [],
   "source": [
    "params = build_params(theta2=1.0, theta3=1.0, theta4=1.0, \n",
    "                      rho_A=2.5, rho_MV=1.0,\n",
    "                      weights_A=wA, weights_MV=wMV)\n",
    "ads = lane_changing(params)\n",
    "results_wet_2 = ads.simulate(theta=1)\n",
    "results_dry_2 = ads.simulate(theta=0)\n",
    "p_mat_2, prob_s_mat_2 = build_result_mat(results_dry_2, results_wet_2)"
   ]
  },
  {
   "cell_type": "code",
   "execution_count": 52,
   "id": "7e9b2701",
   "metadata": {},
   "outputs": [
    {
     "data": {
      "text/html": [
       "<div>\n",
       "<style scoped>\n",
       "    .dataframe tbody tr th:only-of-type {\n",
       "        vertical-align: middle;\n",
       "    }\n",
       "\n",
       "    .dataframe tbody tr th {\n",
       "        vertical-align: top;\n",
       "    }\n",
       "\n",
       "    .dataframe thead th {\n",
       "        text-align: right;\n",
       "    }\n",
       "</style>\n",
       "<table border=\"1\" class=\"dataframe\">\n",
       "  <thead>\n",
       "    <tr style=\"text-align: right;\">\n",
       "      <th></th>\n",
       "      <th></th>\n",
       "      <th>$a_1$</th>\n",
       "      <th>$a_2$</th>\n",
       "      <th>$a_3$</th>\n",
       "      <th>$s_1$</th>\n",
       "      <th>$s_2$</th>\n",
       "      <th>$s_3$</th>\n",
       "      <th>$s_4$</th>\n",
       "      <th>$s_5$</th>\n",
       "    </tr>\n",
       "    <tr>\n",
       "      <th>Configuration</th>\n",
       "      <th>Pavement</th>\n",
       "      <th></th>\n",
       "      <th></th>\n",
       "      <th></th>\n",
       "      <th></th>\n",
       "      <th></th>\n",
       "      <th></th>\n",
       "      <th></th>\n",
       "      <th></th>\n",
       "    </tr>\n",
       "  </thead>\n",
       "  <tbody>\n",
       "    <tr>\n",
       "      <th rowspan=\"2\" valign=\"top\">$\\rho=0.5$</th>\n",
       "      <th>Dry</th>\n",
       "      <td>0.95</td>\n",
       "      <td>0.05</td>\n",
       "      <td>0.0</td>\n",
       "      <td>0.158</td>\n",
       "      <td>0.158</td>\n",
       "      <td>0.681</td>\n",
       "      <td>0.0</td>\n",
       "      <td>0.003</td>\n",
       "    </tr>\n",
       "    <tr>\n",
       "      <th>Wet</th>\n",
       "      <td>0.05</td>\n",
       "      <td>0.95</td>\n",
       "      <td>0.0</td>\n",
       "      <td>0.017</td>\n",
       "      <td>0.017</td>\n",
       "      <td>0.682</td>\n",
       "      <td>0.0</td>\n",
       "      <td>0.285</td>\n",
       "    </tr>\n",
       "    <tr>\n",
       "      <th rowspan=\"2\" valign=\"top\">$\\rho=2.5$</th>\n",
       "      <th>Dry</th>\n",
       "      <td>0.00</td>\n",
       "      <td>1.00</td>\n",
       "      <td>0.0</td>\n",
       "      <td>0.000</td>\n",
       "      <td>0.000</td>\n",
       "      <td>0.950</td>\n",
       "      <td>0.0</td>\n",
       "      <td>0.050</td>\n",
       "    </tr>\n",
       "    <tr>\n",
       "      <th>Wet</th>\n",
       "      <td>0.00</td>\n",
       "      <td>1.00</td>\n",
       "      <td>0.0</td>\n",
       "      <td>0.000</td>\n",
       "      <td>0.000</td>\n",
       "      <td>0.700</td>\n",
       "      <td>0.0</td>\n",
       "      <td>0.300</td>\n",
       "    </tr>\n",
       "  </tbody>\n",
       "</table>\n",
       "</div>"
      ],
      "text/plain": [
       "                        $a_1$  $a_2$  $a_3$  $s_1$  $s_2$  $s_3$  $s_4$  $s_5$\n",
       "Configuration Pavement                                                        \n",
       "$\\rho=0.5$    Dry        0.95   0.05    0.0  0.158  0.158  0.681    0.0  0.003\n",
       "              Wet        0.05   0.95    0.0  0.017  0.017  0.682    0.0  0.285\n",
       "$\\rho=2.5$    Dry        0.00   1.00    0.0  0.000  0.000  0.950    0.0  0.050\n",
       "              Wet        0.00   1.00    0.0  0.000  0.000  0.700    0.0  0.300"
      ]
     },
     "execution_count": 52,
     "metadata": {},
     "output_type": "execute_result"
    }
   ],
   "source": [
    "tuples =  [('$\\rho=0.5$', 'Dry'),('$\\rho=0.5$', 'Wet'),('$\\rho=2.5$', 'Dry'), ('$\\rho=2.5$', 'Wet')]\n",
    "index = pd.MultiIndex.from_tuples(tuples, names=[\"Configuration\", \"Pavement\"])\n",
    "\n",
    "conf1 = np.concatenate([p_mat_1, prob_s_mat_1], axis=1)\n",
    "conf2 = np.concatenate([p_mat_2, prob_s_mat_2], axis=1)\n",
    "tab8  = pd.DataFrame( np.concatenate([conf1, conf2], axis=0) )\n",
    "tab8.columns = ['$a_1$', '$a_2$', '$a_3$', '$s_1$', '$s_2$', '$s_3$', '$s_4$', '$s_5$']\n",
    "tab8.index   = index\n",
    "tab8"
   ]
  },
  {
   "cell_type": "markdown",
   "id": "3d086be8",
   "metadata": {},
   "source": [
    "As expected, when the risk aversion coefficient is high, the ADS tends to be more conservative and chooses to remain in the lane."
   ]
  },
  {
   "cell_type": "code",
   "execution_count": 53,
   "id": "8a00d588",
   "metadata": {},
   "outputs": [
    {
     "data": {
      "text/plain": [
       "'\\\\begin{tabular}{llrrrrrrrr}\\n &  & $a_1$ & $a_2$ & $a_3$ & $s_1$ & $s_2$ & $s_3$ & $s_4$ & $s_5$ \\\\\\\\\\nConfiguration & Pavement &  &  &  &  &  &  &  &  \\\\\\\\\\n\\\\multirow[c]{2}{*}{$\\rho=0.5$} & Dry & 0.950000 & 0.050000 & 0.000000 & 0.158000 & 0.158000 & 0.681000 & 0.000000 & 0.003000 \\\\\\\\\\n & Wet & 0.050000 & 0.950000 & 0.000000 & 0.017000 & 0.017000 & 0.682000 & 0.000000 & 0.285000 \\\\\\\\\\n\\\\multirow[c]{2}{*}{$\\rho=2.5$} & Dry & 0.000000 & 1.000000 & 0.000000 & 0.000000 & 0.000000 & 0.950000 & 0.000000 & 0.050000 \\\\\\\\\\n & Wet & 0.000000 & 1.000000 & 0.000000 & 0.000000 & 0.000000 & 0.700000 & 0.000000 & 0.300000 \\\\\\\\\\n\\\\end{tabular}\\n'"
      ]
     },
     "execution_count": 53,
     "metadata": {},
     "output_type": "execute_result"
    }
   ],
   "source": [
    "tab8.style.to_latex()"
   ]
  },
  {
   "cell_type": "code",
   "execution_count": null,
   "id": "495bd98b",
   "metadata": {},
   "outputs": [],
   "source": []
  }
 ],
 "metadata": {
  "kernelspec": {
   "display_name": "Python 3 (ipykernel)",
   "language": "python",
   "name": "python3"
  },
  "language_info": {
   "codemirror_mode": {
    "name": "ipython",
    "version": 3
   },
   "file_extension": ".py",
   "mimetype": "text/x-python",
   "name": "python",
   "nbconvert_exporter": "python",
   "pygments_lexer": "ipython3",
   "version": "3.9.13"
  }
 },
 "nbformat": 4,
 "nbformat_minor": 5
}
