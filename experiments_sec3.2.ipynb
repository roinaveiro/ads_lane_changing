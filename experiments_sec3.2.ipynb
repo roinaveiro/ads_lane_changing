{
 "cells": [
  {
   "cell_type": "code",
   "execution_count": 46,
   "id": "08027ae4",
   "metadata": {},
   "outputs": [],
   "source": [
    "from lane_changing import *\n",
    "from data import build_params"
   ]
  },
  {
   "cell_type": "markdown",
   "id": "e60bc3da",
   "metadata": {},
   "source": [
    "# Section 3.2.2\n"
   ]
  },
  {
   "cell_type": "code",
   "execution_count": 52,
   "id": "2c237b4c",
   "metadata": {},
   "outputs": [],
   "source": [
    "wA  = np.array([3/100, 22/100, 0, 3/100, 22/100, 0, 22/100, 31/100])\n",
    "wMV = np.array([0.1, 0.5, 0.05, 0.35])\n",
    "\n",
    "params = build_params(theta2=1.0, theta3=1.0, theta4=1.0, \n",
    "                      rho_A=0.5, rho_MV=1.0,\n",
    "                      weights_A=wA, weights_MV=wMV)\n",
    "ads = lane_changing(params)"
   ]
  },
  {
   "cell_type": "code",
   "execution_count": 53,
   "id": "6cbf6605",
   "metadata": {},
   "outputs": [],
   "source": [
    "results_wet = ads.simulate(theta=1)\n",
    "results_dry = ads.simulate(theta=0)"
   ]
  },
  {
   "cell_type": "markdown",
   "id": "1002dc11",
   "metadata": {},
   "source": [
    "### Table 4"
   ]
  },
  {
   "cell_type": "code",
   "execution_count": 60,
   "id": "2dd449dd",
   "metadata": {},
   "outputs": [
    {
     "data": {
      "text/html": [
       "<div>\n",
       "<style scoped>\n",
       "    .dataframe tbody tr th:only-of-type {\n",
       "        vertical-align: middle;\n",
       "    }\n",
       "\n",
       "    .dataframe tbody tr th {\n",
       "        vertical-align: top;\n",
       "    }\n",
       "\n",
       "    .dataframe thead th {\n",
       "        text-align: right;\n",
       "    }\n",
       "</style>\n",
       "<table border=\"1\" class=\"dataframe\">\n",
       "  <thead>\n",
       "    <tr style=\"text-align: right;\">\n",
       "      <th></th>\n",
       "      <th>$a_1$</th>\n",
       "      <th>$a_2$</th>\n",
       "      <th>$a_3$</th>\n",
       "    </tr>\n",
       "    <tr>\n",
       "      <th>Pavement</th>\n",
       "      <th></th>\n",
       "      <th></th>\n",
       "      <th></th>\n",
       "    </tr>\n",
       "  </thead>\n",
       "  <tbody>\n",
       "    <tr>\n",
       "      <th>Dry</th>\n",
       "      <td>0.95</td>\n",
       "      <td>0.05</td>\n",
       "      <td>0.0</td>\n",
       "    </tr>\n",
       "    <tr>\n",
       "      <th>Wet</th>\n",
       "      <td>0.05</td>\n",
       "      <td>0.95</td>\n",
       "      <td>0.0</td>\n",
       "    </tr>\n",
       "  </tbody>\n",
       "</table>\n",
       "</div>"
      ],
      "text/plain": [
       "          $a_1$  $a_2$  $a_3$\n",
       "Pavement                     \n",
       "Dry        0.95   0.05    0.0\n",
       "Wet        0.05   0.95    0.0"
      ]
     },
     "execution_count": 60,
     "metadata": {},
     "output_type": "execute_result"
    }
   ],
   "source": [
    "p_dry = np.zeros([3])\n",
    "p_wet = np.zeros([3])\n",
    "\n",
    "p_dry[ results_dry['a_opt_0'] ] = results_dry['prob_sensor_00'] + results_dry['prob_sensor_10']\n",
    "p_dry[ results_dry['a_opt_1'] ] = results_dry['prob_sensor_10'] + results_dry['prob_sensor_11']\n",
    "\n",
    "p_wet[ results_dry['a_opt_0'] ] = results_wet['prob_sensor_00'] + results_wet['prob_sensor_10']\n",
    "p_wet[ results_dry['a_opt_1'] ] = results_wet['prob_sensor_10'] + results_wet['prob_sensor_11']\n",
    " \n",
    "    \n",
    "d = {\n",
    "     'Pavement': ['Dry', 'Wet'],\n",
    "     '$a_1$'   : [p_dry[0], p_wet[0]],\n",
    "     '$a_2$'   : [p_dry[1], p_wet[1]],\n",
    "     '$a_3$'   : [p_dry[2], p_wet[2]]\n",
    "    }\n",
    "df = pd.DataFrame(d).set_index('Pavement')\n",
    "df"
   ]
  },
  {
   "cell_type": "markdown",
   "id": "922e8b66",
   "metadata": {},
   "source": [
    "### Table 5"
   ]
  },
  {
   "cell_type": "code",
   "execution_count": 69,
   "id": "2d23d587",
   "metadata": {},
   "outputs": [
    {
     "data": {
      "text/html": [
       "<div>\n",
       "<style scoped>\n",
       "    .dataframe tbody tr th:only-of-type {\n",
       "        vertical-align: middle;\n",
       "    }\n",
       "\n",
       "    .dataframe tbody tr th {\n",
       "        vertical-align: top;\n",
       "    }\n",
       "\n",
       "    .dataframe thead th {\n",
       "        text-align: right;\n",
       "    }\n",
       "</style>\n",
       "<table border=\"1\" class=\"dataframe\">\n",
       "  <thead>\n",
       "    <tr style=\"text-align: right;\">\n",
       "      <th></th>\n",
       "      <th>$s_1$</th>\n",
       "      <th>$s_2$</th>\n",
       "      <th>$s_3$</th>\n",
       "      <th>$s_4$</th>\n",
       "    </tr>\n",
       "    <tr>\n",
       "      <th>Pavement</th>\n",
       "      <th></th>\n",
       "      <th></th>\n",
       "      <th></th>\n",
       "      <th></th>\n",
       "    </tr>\n",
       "  </thead>\n",
       "  <tbody>\n",
       "    <tr>\n",
       "      <th>Dry</th>\n",
       "      <td>0.16</td>\n",
       "      <td>0.16</td>\n",
       "      <td>0.68</td>\n",
       "      <td>0.0</td>\n",
       "    </tr>\n",
       "    <tr>\n",
       "      <th>Wet</th>\n",
       "      <td>0.02</td>\n",
       "      <td>0.02</td>\n",
       "      <td>0.97</td>\n",
       "      <td>0.0</td>\n",
       "    </tr>\n",
       "  </tbody>\n",
       "</table>\n",
       "</div>"
      ],
      "text/plain": [
       "          $s_1$  $s_2$  $s_3$  $s_4$\n",
       "Pavement                            \n",
       "Dry        0.16   0.16   0.68    0.0\n",
       "Wet        0.02   0.02   0.97    0.0"
      ]
     },
     "execution_count": 69,
     "metadata": {},
     "output_type": "execute_result"
    }
   ],
   "source": [
    "prob_s_dry = np.round(results_dry['prob_s'], 2)\n",
    "prob_s_wet = np.round(results_wet['prob_s'], 2)\n",
    "prob_s_mat = np.array([prob_s_dry, prob_s_wet])\n",
    "d = {\n",
    "     'Pavement': ['Dry', 'Wet'],\n",
    "     '$s_1$'   : prob_s_mat[:,0],\n",
    "     '$s_2$'   : prob_s_mat[:,1],\n",
    "     '$s_3$'   : prob_s_mat[:,2],\n",
    "     '$s_4$'   : prob_s_mat[:,3]\n",
    "\n",
    "    }\n",
    "df = pd.DataFrame(d).set_index('Pavement')\n",
    "df"
   ]
  },
  {
   "cell_type": "code",
   "execution_count": 72,
   "id": "8297b88c",
   "metadata": {},
   "outputs": [
    {
     "data": {
      "text/plain": [
       "'\\\\begin{tabular}{lrrrr}\\n\\\\toprule\\n{} &  \\\\$s\\\\_1\\\\$ &  \\\\$s\\\\_2\\\\$ &  \\\\$s\\\\_3\\\\$ &  \\\\$s\\\\_4\\\\$ \\\\\\\\\\nPavement &        &        &        &        \\\\\\\\\\n\\\\midrule\\nDry      &   0.16 &   0.16 &   0.68 &    0.0 \\\\\\\\\\nWet      &   0.02 &   0.02 &   0.97 &    0.0 \\\\\\\\\\n\\\\bottomrule\\n\\\\end{tabular}\\n'"
      ]
     },
     "execution_count": 72,
     "metadata": {},
     "output_type": "execute_result"
    }
   ],
   "source": [
    "df.to_latex()"
   ]
  },
  {
   "cell_type": "markdown",
   "id": "4407e679",
   "metadata": {},
   "source": [
    "# Calcular acción óptima del ADS y vector de utilidades esperadas"
   ]
  },
  {
   "cell_type": "code",
   "execution_count": 5,
   "id": "1e172d5c",
   "metadata": {},
   "outputs": [
    {
     "data": {
      "text/plain": [
       "(0, array([0.39944552, 0.25918178, 0.        ]))"
      ]
     },
     "execution_count": 5,
     "metadata": {},
     "output_type": "execute_result"
    }
   ],
   "source": [
    "ads.optimal_action_A()"
   ]
  },
  {
   "cell_type": "markdown",
   "id": "e6da21e4",
   "metadata": {},
   "source": [
    "# Extraer p(m|a)"
   ]
  },
  {
   "cell_type": "code",
   "execution_count": 6,
   "id": "b5a60cd7",
   "metadata": {},
   "outputs": [
    {
     "data": {
      "text/plain": [
       "array([[0.003, 0.   , 0.997],\n",
       "       [0.97 , 0.03 , 0.   ],\n",
       "       [0.37 , 0.381, 0.249]])"
      ]
     },
     "execution_count": 6,
     "metadata": {},
     "output_type": "execute_result"
    }
   ],
   "source": [
    "ads.pam"
   ]
  },
  {
   "cell_type": "markdown",
   "id": "665d67ac",
   "metadata": {},
   "source": [
    "# Calcular acción óptima del vehículo manual (desde su punto de vista) dado a, y utilidades esperadas"
   ]
  },
  {
   "cell_type": "code",
   "execution_count": 8,
   "id": "08e45c5a",
   "metadata": {},
   "outputs": [
    {
     "data": {
      "text/plain": [
       "(0, array([0., 0., 0.]))"
      ]
     },
     "execution_count": 8,
     "metadata": {},
     "output_type": "execute_result"
    }
   ],
   "source": [
    "a = 2\n",
    "ads.optimal_action_MV(a)"
   ]
  }
 ],
 "metadata": {
  "kernelspec": {
   "display_name": "Python 3 (ipykernel)",
   "language": "python",
   "name": "python3"
  },
  "language_info": {
   "codemirror_mode": {
    "name": "ipython",
    "version": 3
   },
   "file_extension": ".py",
   "mimetype": "text/x-python",
   "name": "python",
   "nbconvert_exporter": "python",
   "pygments_lexer": "ipython3",
   "version": "3.9.7"
  }
 },
 "nbformat": 4,
 "nbformat_minor": 5
}
